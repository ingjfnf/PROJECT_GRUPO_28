{
 "cells": [
  {
   "cell_type": "code",
   "execution_count": 0,
   "metadata": {
    "application/vnd.databricks.v1+cell": {
     "cellMetadata": {
      "byteLimit": 2048000,
      "rowLimit": 10000
     },
     "inputWidgets": {},
     "nuid": "05aadd55-d13a-47f3-aac2-c8249d3d2ef2",
     "showTitle": false,
     "tableResultSettingsMap": {},
     "title": ""
    }
   },
   "outputs": [
    {
     "output_type": "stream",
     "name": "stderr",
     "output_type": "stream",
     "text": [
      "2024/11/10 01:40:40 INFO mlflow.tracking.fluent: Experiment with name '/Users/jf.neiraf1@uniandes.edu.co/Student_Performance_Regresion_lineal' does not exist. Creating a new experiment.\n/databricks/python/lib/python3.11/site-packages/_distutils_hack/__init__.py:33: UserWarning: Setuptools is replacing distutils.\n  warnings.warn(\"Setuptools is replacing distutils.\")\n2024/11/10 01:40:44 WARNING mlflow.models.model: Model logged without a signature. Signatures will be required for upcoming model registry features as they validate model inputs and denote the expected schema of model outputs. Please visit https://www.mlflow.org/docs/2.11.4/models.html#set-signature-on-logged-model for instructions on setting a model signature on your logged model.\n"
     ]
    },
    {
     "output_type": "stream",
     "name": "stdout",
     "output_type": "stream",
     "text": [
      "Conjunto de Prueba:\nR²: 0.9889832909573145\nMean Squared Error: 4.082628398521853\nMean Absolute Error: 1.6111213463123044\n"
     ]
    }
   ],
   "source": [
    "# Importar bibliotecas necesarias\n",
    "import pandas as pd\n",
    "import mlflow\n",
    "import mlflow.sklearn\n",
    "from sklearn.model_selection import train_test_split\n",
    "from sklearn.linear_model import LinearRegression\n",
    "from sklearn.metrics import mean_squared_error, mean_absolute_error, r2_score\n",
    "\n",
    "# Cargamos el conjunto de datos\n",
    "df = pd.read_csv(\"https://raw.githubusercontent.com/Fibovin/des_modelos_1/refs/heads/main/Student_Performance.csv\")\n",
    "\n",
    "# Codificamos la variable categórica\n",
    "df['Extracurricular Activities'] = df['Extracurricular Activities'].map({'Yes': 1, 'No': 0})\n",
    "\n",
    "# Dividimos el conjunto de datos en características y variable objetivo\n",
    "X = df.drop(columns=['Performance Index'])\n",
    "y = df['Performance Index']\n",
    "\n",
    "# Dividimos el conjunto de datos en entrenamiento y prueba\n",
    "X_train, X_test, y_train, y_test = train_test_split(X, y, test_size=0.2, random_state=42)\n",
    "\n",
    "# Configuramos el experimento de MLflow\n",
    "mlflow.set_experiment(\"/Users/jf.neiraf1@uniandes.edu.co/Student_Performance_Regresion_lineal\")\n",
    "\n",
    "# Definimos y ejecutamos el experimento con MLflow para la regresión lineal\n",
    "with mlflow.start_run(run_name=\"REGRESION LINEAL Experimento_1\"):\n",
    "    # Creamos y entrenamos el modelo de regresión lineal simple\n",
    "    linear_model = LinearRegression()\n",
    "    linear_model.fit(X_train, y_train)\n",
    "\n",
    "    # Realizamos predicciones en el conjunto de prueba\n",
    "    y_test_pred = linear_model.predict(X_test)\n",
    "\n",
    "    # Calculamos y registramos las métricas para el conjunto de prueba\n",
    "    r2_test = r2_score(y_test, y_test_pred)\n",
    "    mse_test = mean_squared_error(y_test, y_test_pred)\n",
    "    mae_test = mean_absolute_error(y_test, y_test_pred)\n",
    "    \n",
    "    mlflow.log_metric(\"r2\", r2_test)\n",
    "    mlflow.log_metric(\"mse\", mse_test)\n",
    "    mlflow.log_metric(\"mae\", mae_test)\n",
    "\n",
    "    # Registramos el modelo de regresión lineal en MLflow\n",
    "    mlflow.sklearn.log_model(linear_model, \"linear-regression-model\")\n",
    "\n",
    "    # Imprimimos las métricas para verificar\n",
    "    print(\"Conjunto de Prueba:\")\n",
    "    print(f\"R²: {r2_test}\")\n",
    "    print(f\"Mean Squared Error: {mse_test}\")\n",
    "    print(f\"Mean Absolute Error: {mae_test}\")\n"
   ]
  },
  {
   "cell_type": "markdown",
   "metadata": {
    "application/vnd.databricks.v1+cell": {
     "cellMetadata": {},
     "inputWidgets": {},
     "nuid": "08b4aeba-00c3-4a0d-b44a-eb3d4ecdd435",
     "showTitle": false,
     "tableResultSettingsMap": {},
     "title": ""
    }
   },
   "source": [
    "## **Tunning del modelo - Regresión lineal simple**"
   ]
  },
  {
   "cell_type": "markdown",
   "metadata": {
    "application/vnd.databricks.v1+cell": {
     "cellMetadata": {},
     "inputWidgets": {},
     "nuid": "c9be324f-f9a7-4a6c-9ac9-d7b32e77a0e4",
     "showTitle": false,
     "tableResultSettingsMap": {},
     "title": ""
    }
   },
   "source": [
    "#### **Regularizamos la regresión con un Lasso y Ridge, por lo tanto asignamos como experimento 2 a la regresión ridge y experimento 3 a la regresión lasso**"
   ]
  },
  {
   "cell_type": "code",
   "execution_count": 0,
   "metadata": {
    "application/vnd.databricks.v1+cell": {
     "cellMetadata": {
      "byteLimit": 2048000,
      "rowLimit": 10000
     },
     "inputWidgets": {},
     "nuid": "97490cc5-d858-4796-9939-d9fd15dab10b",
     "showTitle": false,
     "tableResultSettingsMap": {},
     "title": ""
    }
   },
   "outputs": [
    {
     "output_type": "stream",
     "name": "stderr",
     "output_type": "stream",
     "text": [
      "2024/11/10 01:50:50 WARNING mlflow.models.model: Model logged without a signature. Signatures will be required for upcoming model registry features as they validate model inputs and denote the expected schema of model outputs. Please visit https://www.mlflow.org/docs/2.11.4/models.html#set-signature-on-logged-model for instructions on setting a model signature on your logged model.\n"
     ]
    },
    {
     "output_type": "stream",
     "name": "stdout",
     "output_type": "stream",
     "text": [
      "Conjunto de Prueba - Ridge Regression:\nR²: 0.9889832645273239\nMean Squared Error: 4.082638193083003\nMean Absolute Error: 1.611120582543694\n"
     ]
    }
   ],
   "source": [
    "# Configuramos el experimento de MLflow\n",
    "mlflow.set_experiment(\"/Users/jf.neiraf1@uniandes.edu.co/Student_Performance_Regresion_lineal\")\n",
    "\n",
    "# Experimento con Ridge Regression\n",
    "with mlflow.start_run(run_name=\"REGRESION RIDGE Experimento_2\"):\n",
    "    # Creamos y entrenamos el modelo Ridge\n",
    "    ridge_model = Ridge(alpha=1.0)\n",
    "    ridge_model.fit(X_train, y_train)\n",
    "\n",
    "    # Realizamos predicciones en el conjunto de prueba\n",
    "    y_test_pred_ridge = ridge_model.predict(X_test)\n",
    "\n",
    "    # Calculamos y registramos las métricas para el conjunto de prueba\n",
    "    r2_test_ridge = r2_score(y_test, y_test_pred_ridge)\n",
    "    mse_test_ridge = mean_squared_error(y_test, y_test_pred_ridge)\n",
    "    mae_test_ridge = mean_absolute_error(y_test, y_test_pred_ridge)\n",
    "    \n",
    "    mlflow.log_metric(\"r2\", r2_test_ridge)\n",
    "    mlflow.log_metric(\"mse\", mse_test_ridge)\n",
    "    mlflow.log_metric(\"mae\", mae_test_ridge)\n",
    "\n",
    "    # Registramos el modelo Ridge en MLflow\n",
    "    mlflow.sklearn.log_model(ridge_model, \"ridge-regression-model\")\n",
    "\n",
    "    # Imprimimos las métricas para verificar\n",
    "    print(\"Conjunto de Prueba - Ridge Regression:\")\n",
    "    print(f\"R²: {r2_test_ridge}\")\n",
    "    print(f\"Mean Squared Error: {mse_test_ridge}\")\n",
    "    print(f\"Mean Absolute Error: {mae_test_ridge}\")\n"
   ]
  },
  {
   "cell_type": "code",
   "execution_count": 0,
   "metadata": {
    "application/vnd.databricks.v1+cell": {
     "cellMetadata": {
      "byteLimit": 2048000,
      "rowLimit": 10000
     },
     "inputWidgets": {},
     "nuid": "d68320e2-8e25-4898-86d4-30e633aad9d8",
     "showTitle": false,
     "tableResultSettingsMap": {},
     "title": ""
    }
   },
   "outputs": [
    {
     "output_type": "stream",
     "name": "stderr",
     "output_type": "stream",
     "text": [
      "2024/11/10 01:55:36 WARNING mlflow.models.model: Model logged without a signature. Signatures will be required for upcoming model registry features as they validate model inputs and denote the expected schema of model outputs. Please visit https://www.mlflow.org/docs/2.11.4/models.html#set-signature-on-logged-model for instructions on setting a model signature on your logged model.\n"
     ]
    },
    {
     "output_type": "stream",
     "name": "stdout",
     "output_type": "stream",
     "text": [
      "\nConjunto de Prueba - Lasso Regression:\nR²: 0.9888224228416228\nMean Squared Error: 4.1422437278361635\nMean Absolute Error: 1.6213260861967809\n"
     ]
    }
   ],
   "source": [
    "# Configuramos el experimento de MLflow\n",
    "mlflow.set_experiment(\"/Users/jf.neiraf1@uniandes.edu.co/Student_Performance_Regresion_lineal\")\n",
    "\n",
    "\n",
    "# Experimento con Lasso Regression (Experimento 3)\n",
    "with mlflow.start_run(run_name=\"REGRESION LASSO Experimento_3\"):\n",
    "    # Creamos y entrenamos el modelo Lasso\n",
    "    lasso_model = Lasso(alpha=0.1)\n",
    "    lasso_model.fit(X_train, y_train)\n",
    "\n",
    "    # Realizamos predicciones en el conjunto de prueba\n",
    "    y_test_pred_lasso = lasso_model.predict(X_test)\n",
    "\n",
    "    # Calculamos y registramos las métricas para el conjunto de prueba\n",
    "    r2_test_lasso = r2_score(y_test, y_test_pred_lasso)\n",
    "    mse_test_lasso = mean_squared_error(y_test, y_test_pred_lasso)\n",
    "    mae_test_lasso = mean_absolute_error(y_test, y_test_pred_lasso)\n",
    "    \n",
    "    mlflow.log_metric(\"r2\", r2_test_lasso)\n",
    "    mlflow.log_metric(\"mse\", mse_test_lasso)\n",
    "    mlflow.log_metric(\"mae\", mae_test_lasso)\n",
    "\n",
    "    # Registramos el modelo Lasso en MLflow\n",
    "    mlflow.sklearn.log_model(lasso_model, \"lasso-regression-model\")\n",
    "\n",
    "    # Imprimimos las métricas para verificar\n",
    "    print(\"\\nConjunto de Prueba - Lasso Regression:\")\n",
    "    print(f\"R²: {r2_test_lasso}\")\n",
    "    print(f\"Mean Squared Error: {mse_test_lasso}\")\n",
    "    print(f\"Mean Absolute Error: {mae_test_lasso}\")"
   ]
  },
  {
   "cell_type": "code",
   "execution_count": 0,
   "metadata": {
    "application/vnd.databricks.v1+cell": {
     "cellMetadata": {},
     "inputWidgets": {},
     "nuid": "0c5f1b19-e524-46f5-a680-2910b7e7eb14",
     "showTitle": false,
     "tableResultSettingsMap": {},
     "title": ""
    }
   },
   "outputs": [],
   "source": []
  }
 ],
 "metadata": {
  "application/vnd.databricks.v1+notebook": {
   "dashboards": [],
   "environmentMetadata": null,
   "language": "python",
   "notebookMetadata": {
    "pythonIndentUnit": 2
   },
   "notebookName": "REGRESION LINEAL SIMPLE",
   "widgets": {}
  }
 },
 "nbformat": 4,
 "nbformat_minor": 0
}
