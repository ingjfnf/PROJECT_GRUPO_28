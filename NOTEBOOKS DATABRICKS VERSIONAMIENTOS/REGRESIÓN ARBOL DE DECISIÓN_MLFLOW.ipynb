{
 "cells": [
  {
   "cell_type": "code",
   "execution_count": 0,
   "metadata": {
    "application/vnd.databricks.v1+cell": {
     "cellMetadata": {
      "byteLimit": 2048000,
      "rowLimit": 10000
     },
     "inputWidgets": {},
     "nuid": "5558653e-d6ef-4548-9837-316cb1af20d7",
     "showTitle": false,
     "tableResultSettingsMap": {},
     "title": ""
    }
   },
   "outputs": [
    {
     "name": "stderr",
     "output_type": "stream",
     "text": [
      "2024/11/10 00:57:51 WARNING mlflow.models.model: Model logged without a signature. Signatures will be required for upcoming model registry features as they validate model inputs and denote the expected schema of model outputs. Please visit https://www.mlflow.org/docs/2.11.4/models.html#set-signature-on-logged-model for instructions on setting a model signature on your logged model.\n"
     ]
    },
    {
     "data": {
      "application/vnd.jupyter.widget-view+json": {
       "model_id": "bc5c4ffbf5984cd6927f7a4a5a54aa5c",
       "version_major": 2,
       "version_minor": 0
      },
      "text/plain": [
       "Uploading artifacts:   0%|          | 0/9 [00:00<?, ?it/s]"
      ]
     },
     "metadata": {},
     "output_type": "display_data"
    },
    {
     "name": "stdout",
     "output_type": "stream",
     "text": [
      "R²: 0.9762195132401258\n",
      "Mean Squared Error: 8.812694444444444\n",
      "Mean Absolute Error: 2.3378333333333337\n"
     ]
    }
   ],
   "source": [
    "# Importamos bibliotecas necesarias\n",
    "import pandas as pd\n",
    "import mlflow\n",
    "import mlflow.sklearn\n",
    "from sklearn.model_selection import train_test_split\n",
    "from sklearn.tree import DecisionTreeRegressor\n",
    "from sklearn.metrics import mean_squared_error, mean_absolute_error, r2_score\n",
    "\n",
    "# Cargamos el conjunto de datos\n",
    "df = pd.read_csv(\"https://raw.githubusercontent.com/Fibovin/des_modelos_1/refs/heads/main/Student_Performance.csv\")\n",
    "\n",
    "# Codificamos la variable categórica\n",
    "df['Extracurricular Activities'] = df['Extracurricular Activities'].map({'Yes': 1, 'No': 0})\n",
    "\n",
    "# Dividimos el conjunto de datos en características y variable objetivo\n",
    "X = df.drop(columns=['Performance Index'])\n",
    "y = df['Performance Index']\n",
    "\n",
    "# Dividimos el conjunto de datos en entrenamiento y prueba\n",
    "X_train, X_test, y_train, y_test = train_test_split(X, y, test_size=0.2, random_state=42)\n",
    "\n",
    "# Configuramos el experimento de MLflow\n",
    "mlflow.set_experiment(\"/Users/jf.neiraf1@uniandes.edu.co/Student_Performance\")\n",
    "\n",
    "# Definimos y ejecutamos el experimento con MLflow\n",
    "with mlflow.start_run(run_name=\"Regresion ARBOL DECISION Experimento_1\"):\n",
    "    # Creamos el modelo de regresión con árbol de decisión (sin parámetros adicionales)\n",
    "    tree_model = DecisionTreeRegressor(random_state=42)\n",
    "    tree_model.fit(X_train, y_train)\n",
    "\n",
    "    # Realizamos predicciones en el conjunto de prueba\n",
    "    y_test_pred_tree = tree_model.predict(X_test)\n",
    "\n",
    "    # Registramos el modelo en MLflow\n",
    "    mlflow.sklearn.log_model(tree_model, \"decision-tree-model\")\n",
    "    \n",
    "\n",
    "    # Calculamos y registramos las métricas de interés\n",
    "    r2_test_tree = r2_score(y_test, y_test_pred_tree)\n",
    "    mse_test_tree = mean_squared_error(y_test, y_test_pred_tree)\n",
    "    mae_test_tree = mean_absolute_error(y_test, y_test_pred_tree)\n",
    "    \n",
    "    mlflow.log_metric(\"r2_score\", r2_test_tree)\n",
    "    mlflow.log_metric(\"mse\", mse_test_tree)\n",
    "    mlflow.log_metric(\"mae\", mae_test_tree)\n",
    "    \n",
    "    # Imprimimos las métricas para verificar\n",
    "    print(f\"R²: {r2_test_tree}\")\n",
    "    print(f\"Mean Squared Error: {mse_test_tree}\")\n",
    "    print(f\"Mean Absolute Error: {mae_test_tree}\")\n"
   ]
  },
  {
   "cell_type": "markdown",
   "metadata": {
    "application/vnd.databricks.v1+cell": {
     "cellMetadata": {},
     "inputWidgets": {},
     "nuid": "1318dd58-383f-4d27-be6a-b83ea86421ef",
     "showTitle": false,
     "tableResultSettingsMap": {},
     "title": ""
    }
   },
   "source": [
    "## **Tunning del modelo - Regresión con árbol de decisión**"
   ]
  },
  {
   "cell_type": "markdown",
   "metadata": {
    "application/vnd.databricks.v1+cell": {
     "cellMetadata": {},
     "inputWidgets": {},
     "nuid": "b5b9109a-8f2f-4c86-8058-687305122bdb",
     "showTitle": false,
     "tableResultSettingsMap": {},
     "title": ""
    }
   },
   "source": [
    "### **Busqueda de hiperparametros con Grid search CV**"
   ]
  },
  {
   "cell_type": "code",
   "execution_count": 0,
   "metadata": {
    "application/vnd.databricks.v1+cell": {
     "cellMetadata": {
      "byteLimit": 2048000,
      "rowLimit": 10000
     },
     "inputWidgets": {},
     "nuid": "e46c36dc-f445-401d-84cd-42a064d41e66",
     "showTitle": false,
     "tableResultSettingsMap": {},
     "title": ""
    }
   },
   "outputs": [
    {
     "name": "stdout",
     "output_type": "stream",
     "text": [
      "Mejores hiperparámetros: {'max_depth': 10, 'min_samples_leaf': 4, 'min_samples_split': 10}\n",
      "Mejor R² obtenido: 0.9830783642033294\n"
     ]
    }
   ],
   "source": [
    "#Definimos el espacio de búsqueda de hiperparámetros\n",
    "param_grid = {'max_depth': [3, 5, 10, None],'min_samples_split': [2, 5, 10],'min_samples_leaf': [1, 2, 4]}\n",
    "\n",
    "#Configuramos la búsqueda de hiperparámetros en el árbol de decisión\n",
    "grid_search = GridSearchCV(DecisionTreeRegressor(random_state=42), param_grid, cv=5, scoring='r2')\n",
    "grid_search.fit(X_train, y_train)\n",
    "\n",
    "# Resultados\n",
    "print(\"Mejores hiperparámetros:\", grid_search.best_params_)\n",
    "print(\"Mejor R² obtenido:\", grid_search.best_score_)"
   ]
  },
  {
   "cell_type": "markdown",
   "metadata": {
    "application/vnd.databricks.v1+cell": {
     "cellMetadata": {},
     "inputWidgets": {},
     "nuid": "193fc6a9-b1a0-4ff9-85d4-fd272cd09b12",
     "showTitle": false,
     "tableResultSettingsMap": {},
     "title": ""
    }
   },
   "source": [
    "### VAMOS A EJECUTAR EL SEGUNDO EXPERIMENTO DEL MODELO TUNEADO CON BASE A LOS PARÁMETROS ENCONTRADOS ANTERIORMENTE"
   ]
  },
  {
   "cell_type": "code",
   "execution_count": 0,
   "metadata": {
    "application/vnd.databricks.v1+cell": {
     "cellMetadata": {
      "byteLimit": 2048000,
      "rowLimit": 10000
     },
     "inputWidgets": {},
     "nuid": "c0798809-0313-4172-8218-d58282749776",
     "showTitle": false,
     "tableResultSettingsMap": {},
     "title": ""
    }
   },
   "outputs": [
    {
     "name": "stderr",
     "output_type": "stream",
     "text": [
      "2024/11/10 01:14:46 WARNING mlflow.models.model: Model logged without a signature. Signatures will be required for upcoming model registry features as they validate model inputs and denote the expected schema of model outputs. Please visit https://www.mlflow.org/docs/2.11.4/models.html#set-signature-on-logged-model for instructions on setting a model signature on your logged model.\n"
     ]
    },
    {
     "data": {
      "application/vnd.jupyter.widget-view+json": {
       "model_id": "8f45495f7d514777b16e1b94133c33ca",
       "version_major": 2,
       "version_minor": 0
      },
      "text/plain": [
       "Uploading artifacts:   0%|          | 0/9 [00:00<?, ?it/s]"
      ]
     },
     "metadata": {},
     "output_type": "display_data"
    },
    {
     "name": "stdout",
     "output_type": "stream",
     "text": [
      "Conjunto de Prueba:\n",
      "R²: 0.9842770387732579\n",
      "Mean Squared Error: 5.8266954100757244\n",
      "Mean Absolute Error: 1.9034931306771197\n"
     ]
    }
   ],
   "source": [
    "# Configuramos el experimento de MLflow\n",
    "mlflow.set_experiment(\"/Users/jf.neiraf1@uniandes.edu.co/Student_Performance\")\n",
    "\n",
    "# Definimos y ejecutamos el experimento con MLflow para el modelo optimizado\n",
    "with mlflow.start_run(run_name=\"Regresion ARBOL DECISION Experimento_2\"):\n",
    "    # Creamos el modelo con los mejores hiperparámetros\n",
    "    optimized_tree_model = DecisionTreeRegressor(max_depth=10, min_samples_leaf=4, min_samples_split=10, random_state=42)\n",
    "    optimized_tree_model.fit(X_train, y_train)\n",
    "\n",
    "    # Realizamos predicciones en el conjunto de prueba\n",
    "    y_test_pred_optimized = optimized_tree_model.predict(X_test)\n",
    "\n",
    "    # Calculamos y registramos las métricas para el conjunto de prueba\n",
    "    r2_test_optimized = r2_score(y_test, y_test_pred_optimized)\n",
    "    mse_test_optimized = mean_squared_error(y_test, y_test_pred_optimized)\n",
    "    mae_test_optimized = mean_absolute_error(y_test, y_test_pred_optimized)\n",
    "    \n",
    "    mlflow.log_metric(\"r2_score\", r2_test_optimized)\n",
    "    mlflow.log_metric(\"mse\", mse_test_optimized)\n",
    "    mlflow.log_metric(\"mae\", mae_test_optimized)\n",
    "\n",
    "    # Registramos el modelo optimizado en MLflow\n",
    "    mlflow.sklearn.log_model(optimized_tree_model, \"decision-tree-model\")\n",
    "\n",
    "    # Imprimimos las métricas para verificar\n",
    "    print(\"Conjunto de Prueba:\")\n",
    "    print(f\"R²: {r2_test_optimized}\")\n",
    "    print(f\"Mean Squared Error: {mse_test_optimized}\")\n",
    "    print(f\"Mean Absolute Error: {mae_test_optimized}\")"
   ]
  },
  {
   "cell_type": "code",
   "execution_count": 0,
   "metadata": {
    "application/vnd.databricks.v1+cell": {
     "cellMetadata": {},
     "inputWidgets": {},
     "nuid": "cf40c37e-377e-4f38-938d-aaa3ade69b2e",
     "showTitle": false,
     "tableResultSettingsMap": {},
     "title": ""
    }
   },
   "outputs": [],
   "source": []
  }
 ],
 "metadata": {
  "application/vnd.databricks.v1+notebook": {
   "dashboards": [],
   "environmentMetadata": null,
   "language": "python",
   "notebookMetadata": {
    "pythonIndentUnit": 2
   },
   "notebookName": "REGRESIÓN ARBOL DE DECISIÓN",
   "widgets": {}
  },
  "language_info": {
   "name": "python"
  }
 },
 "nbformat": 4,
 "nbformat_minor": 0
}
