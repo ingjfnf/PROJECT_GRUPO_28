{
 "cells": [
  {
   "cell_type": "code",
   "execution_count": 0,
   "metadata": {
    "application/vnd.databricks.v1+cell": {
     "cellMetadata": {
      "byteLimit": 2048000,
      "rowLimit": 10000
     },
     "inputWidgets": {},
     "nuid": "ba0e8ec9-bd8b-4718-b397-39825fd4e2ef",
     "showTitle": false,
     "tableResultSettingsMap": {},
     "title": ""
    }
   },
   "outputs": [
    {
     "output_type": "stream",
     "name": "stderr",
     "output_type": "stream",
     "text": [
      "2024/11/10 02:23:17 INFO mlflow.tracking.fluent: Experiment with name '/Users/jf.neiraf1@uniandes.edu.co/Student_Performance_SVR' does not exist. Creating a new experiment.\n/databricks/python/lib/python3.11/site-packages/_distutils_hack/__init__.py:33: UserWarning: Setuptools is replacing distutils.\n  warnings.warn(\"Setuptools is replacing distutils.\")\n2024/11/10 02:23:32 WARNING mlflow.models.model: Model logged without a signature. Signatures will be required for upcoming model registry features as they validate model inputs and denote the expected schema of model outputs. Please visit https://www.mlflow.org/docs/2.11.4/models.html#set-signature-on-logged-model for instructions on setting a model signature on your logged model.\n"
     ]
    },
    {
     "output_type": "stream",
     "name": "stdout",
     "output_type": "stream",
     "text": [
      "Conjunto de Prueba - SVR:\nR²: 0.9889779818430801\nMean Squared Error: 4.084595877236296\nMean Absolute Error: 1.6117598399098356\n"
     ]
    }
   ],
   "source": [
    "# Importar bibliotecas necesarias\n",
    "import pandas as pd\n",
    "import mlflow\n",
    "import mlflow.sklearn\n",
    "from sklearn.model_selection import train_test_split\n",
    "from sklearn.svm import SVR\n",
    "from sklearn.metrics import mean_squared_error, mean_absolute_error, r2_score\n",
    "\n",
    "# Cargamos el conjunto de datos\n",
    "df = pd.read_csv(\"https://raw.githubusercontent.com/Fibovin/des_modelos_1/refs/heads/main/Student_Performance.csv\")\n",
    "\n",
    "# Codificamos la variable categórica\n",
    "df['Extracurricular Activities'] = df['Extracurricular Activities'].map({'Yes': 1, 'No': 0})\n",
    "\n",
    "# Dividimos el conjunto de datos en características y variable objetivo\n",
    "X = df.drop(columns=['Performance Index'])\n",
    "y = df['Performance Index']\n",
    "\n",
    "# Dividimos el conjunto de datos en entrenamiento y prueba\n",
    "X_train, X_test, y_train, y_test = train_test_split(X, y, test_size=0.2, random_state=42)\n",
    "\n",
    "# Configuramos el experimento de MLflow\n",
    "mlflow.set_experiment(\"/Users/jf.neiraf1@uniandes.edu.co/Student_Performance_SVR\")\n",
    "\n",
    "# Definimos y ejecutamos el experimento con MLflow para el modelo SVR\n",
    "with mlflow.start_run(run_name=\"REGRESION SVR Experimento_1\"):\n",
    "    # Creamos y entrenamos el modelo SVR con kernel lineal\n",
    "    svr_model = SVR(kernel=\"linear\")\n",
    "    svr_model.fit(X_train, y_train)\n",
    "\n",
    "    # Realizamos predicciones en el conjunto de prueba\n",
    "    y_test_pred_svr = svr_model.predict(X_test)\n",
    "\n",
    "    # Calculamos y registramos las métricas para el conjunto de prueba\n",
    "    r2_test_svr = r2_score(y_test, y_test_pred_svr)\n",
    "    mse_test_svr = mean_squared_error(y_test, y_test_pred_svr)\n",
    "    mae_test_svr = mean_absolute_error(y_test, y_test_pred_svr)\n",
    "    \n",
    "    mlflow.log_metric(\"r2\", r2_test_svr)\n",
    "    mlflow.log_metric(\"mse\", mse_test_svr)\n",
    "    mlflow.log_metric(\"mae\", mae_test_svr)\n",
    "\n",
    "    # Registramos el modelo SVR en MLflow\n",
    "    mlflow.sklearn.log_model(svr_model, \"svr-linear-model\")\n",
    "\n",
    "    # Imprimimos las métricas para verificar\n",
    "    print(\"Conjunto de Prueba - SVR:\")\n",
    "    print(f\"R²: {r2_test_svr}\")\n",
    "    print(f\"Mean Squared Error: {mse_test_svr}\")\n",
    "    print(f\"Mean Absolute Error: {mae_test_svr}\")\n"
   ]
  },
  {
   "cell_type": "markdown",
   "metadata": {
    "application/vnd.databricks.v1+cell": {
     "cellMetadata": {},
     "inputWidgets": {},
     "nuid": "84a4d488-a2ed-4f9c-8c6f-ea8076e624bf",
     "showTitle": false,
     "tableResultSettingsMap": {},
     "title": ""
    }
   },
   "source": [
    "## **Tunning del modelo - Regresión SVR**"
   ]
  },
  {
   "cell_type": "markdown",
   "metadata": {
    "application/vnd.databricks.v1+cell": {
     "cellMetadata": {},
     "inputWidgets": {},
     "nuid": "fee56eb9-8a76-4180-86cc-21a019aa7e87",
     "showTitle": false,
     "tableResultSettingsMap": {},
     "title": ""
    }
   },
   "source": [
    "### **Métodos de Ensamble**"
   ]
  },
  {
   "cell_type": "code",
   "execution_count": 0,
   "metadata": {
    "application/vnd.databricks.v1+cell": {
     "cellMetadata": {
      "byteLimit": 2048000,
      "rowLimit": 10000
     },
     "inputWidgets": {},
     "nuid": "a11f3de0-4d1a-4513-9139-31a3fa0e1709",
     "showTitle": false,
     "tableResultSettingsMap": {},
     "title": ""
    }
   },
   "outputs": [
    {
     "output_type": "stream",
     "name": "stderr",
     "output_type": "stream",
     "text": [
      "2024/11/10 02:35:52 WARNING mlflow.models.model: Model logged without a signature. Signatures will be required for upcoming model registry features as they validate model inputs and denote the expected schema of model outputs. Please visit https://www.mlflow.org/docs/2.11.4/models.html#set-signature-on-logged-model for instructions on setting a model signature on your logged model.\n"
     ]
    },
    {
     "output_type": "stream",
     "name": "stdout",
     "output_type": "stream",
     "text": [
      "Conjunto de Prueba - Modelo de Ensamble (SVR y Regresión Lineal):\nR²: 0.9880481130744191\nMean Squared Error: 4.4291914027352925\nMean Absolute Error: 1.670586367787048\n"
     ]
    }
   ],
   "source": [
    "# Configuramos el experimento de MLflow\n",
    "mlflow.set_experiment(\"/Users/jf.neiraf1@uniandes.edu.co/Student_Performance_SVR\")\n",
    "\n",
    "# Definimos y ejecutamos el experimento con MLflow para el modelo de ensamble\n",
    "with mlflow.start_run(run_name=\"REGRESION SVR ENSAMBLE Experimento_2\"):\n",
    "    # Creamos el modelo de ensamble con SVR y regresión lineal\n",
    "    svr = SVR(C=1.0, kernel='rbf')\n",
    "    lr = LinearRegression()\n",
    "    ensemble_model = VotingRegressor([('svr', svr), ('lr', lr)])\n",
    "    ensemble_model.fit(X_train, y_train)\n",
    "\n",
    "    # Realizamos predicciones en el conjunto de prueba\n",
    "    y_test_pred_ensemble = ensemble_model.predict(X_test)\n",
    "\n",
    "    # Calculamos y registramos las métricas para el conjunto de prueba\n",
    "    r2_test_ensemble = r2_score(y_test, y_test_pred_ensemble)\n",
    "    mse_test_ensemble = mean_squared_error(y_test, y_test_pred_ensemble)\n",
    "    mae_test_ensemble = mean_absolute_error(y_test, y_test_pred_ensemble)\n",
    "    \n",
    "    mlflow.log_metric(\"r2\", r2_test_ensemble)\n",
    "    mlflow.log_metric(\"mse\", mse_test_ensemble)\n",
    "    mlflow.log_metric(\"mae\", mae_test_ensemble)\n",
    "\n",
    "    # Registramos el modelo de ensamble en MLflow\n",
    "    mlflow.sklearn.log_model(ensemble_model, \"ensemble-svr-lr-model\")\n",
    "\n",
    "    # Imprimimos las métricas para verificar\n",
    "    print(\"Conjunto de Prueba - Modelo de Ensamble (SVR y Regresión Lineal):\")\n",
    "    print(f\"R²: {r2_test_ensemble}\")\n",
    "    print(f\"Mean Squared Error: {mse_test_ensemble}\")\n",
    "    print(f\"Mean Absolute Error: {mae_test_ensemble}\")"
   ]
  },
  {
   "cell_type": "code",
   "execution_count": 0,
   "metadata": {
    "application/vnd.databricks.v1+cell": {
     "cellMetadata": {},
     "inputWidgets": {},
     "nuid": "20ef9e39-de7a-494d-9b65-7ad37dc9e178",
     "showTitle": false,
     "tableResultSettingsMap": {},
     "title": ""
    }
   },
   "outputs": [],
   "source": []
  }
 ],
 "metadata": {
  "application/vnd.databricks.v1+notebook": {
   "dashboards": [],
   "environmentMetadata": null,
   "language": "python",
   "notebookMetadata": {
    "pythonIndentUnit": 2
   },
   "notebookName": "REGRESION MAQUINA SOPORTE VECTORIAL",
   "widgets": {}
  }
 },
 "nbformat": 4,
 "nbformat_minor": 0
}
